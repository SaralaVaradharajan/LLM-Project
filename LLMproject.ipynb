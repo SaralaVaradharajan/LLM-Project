{
 "cells": [
  {
   "cell_type": "code",
   "execution_count": null,
   "id": "1c361c95",
   "metadata": {},
   "outputs": [],
   "source": [
    "import os\n",
    "from langchain.text_splitter import RecursiveCharacterTextSplitter\n",
    "from langchain.embeddings import HuggingFaceEmbeddings\n",
    "from langchain.vectorstores import FAISS\n",
    "from langchain.schema import Document\n",
    "from langchain.llms import CTransformers\n",
    "\n",
    "\n",
    "#Extract Text from .txt Files\n",
    "\n",
    "def extract_text_from_txt(file_path):\n",
    "    with open(file_path, \"r\", encoding=\"utf-8\") as f:\n",
    "        return f.read()\n",
    "\n",
    "#Load Documents\n",
    "\n",
    "def load_documents(folder_path=\"documents\"):\n",
    "    documents = []\n",
    "    for file_name in os.listdir(folder_path):\n",
    "        if file_name.endswith(\".txt\"):\n",
    "            file_path = os.path.join(folder_path, file_name)\n",
    "            text = extract_text_from_txt(file_path)\n",
    "            documents.append({\"file_name\": file_name, \"text\": text})\n",
    "    return documents\n",
    "\n",
    "#Split Documents\n",
    "\n",
    "def split_documents(documents, chunk_size=500, chunk_overlap=50):\n",
    "    splitter = RecursiveCharacterTextSplitter(chunk_size=chunk_size, chunk_overlap=chunk_overlap)\n",
    "    chunks = []\n",
    "    for doc in documents:\n",
    "        chunks.extend(splitter.split_text(doc[\"text\"]))\n",
    "    return [Document(page_content=chunk) for chunk in chunks]\n",
    "\n",
    "\n",
    "#Embedding and FAISS Creation\n",
    "\n",
    "def create_faiss_index(documents):\n",
    "    embedding_model = HuggingFaceEmbeddings(\n",
    "        model_name=\"sentence-transformers/all-MiniLM-L6-v2\",\n",
    "        model_kwargs={\"device\": \"cpu\"}\n",
    "    )\n",
    "    vectordb = FAISS.from_documents(documents, embedding_model)\n",
    "    vectordb.save_local(\"faiss_index\")\n",
    "    print(\"✅ FAISS index created and saved.\")\n",
    "    return vectordb\n",
    "\n",
    "#Load FAISS Index\n",
    "\n",
    "def load_faiss_index():\n",
    "    embedding_model = HuggingFaceEmbeddings(\n",
    "        model_name=\"sentence-transformers/all-MiniLM-L6-v2\",\n",
    "        model_kwargs={\"device\": \"cpu\"}\n",
    "    )\n",
    "    vectordb = FAISS.load_local(\"faiss_index\", embeddings=embedding_model, allow_dangerous_deserialization=True)\n",
    "    print(\"✅ FAISS index loaded.\")\n",
    "    return vectordb\n",
    "\n",
    "#Retrieve Relevant Chunks\n",
    "\n",
    "def retrieve_relevant_chunks(vectordb, query, top_k=3):\n",
    "    results = vectordb.similarity_search(query, k=top_k)\n",
    "    context = \"\\n\\n\".join([result.page_content for result in results])\n",
    "    return context\n",
    "\n",
    "#Answer Generation (Llama 2)\n",
    "\n",
    "def generate_answer(context, question):\n",
    "    llm_model = CTransformers(\n",
    "        model=r\"\" \\\n",
    "        \"\",\n",
    "        model_type=\"llama\",\n",
    "        config={\n",
    "            \"max_new_tokens\": 256,\n",
    "            \"temperature\": 0.7,\n",
    "            \"context_length\": 512\n",
    "        }\n",
    "    )\n",
    "    prompt = f\"Context:\\n{context}\\n\\nQuestion: {question}\\n\\nAnswer:\"\n",
    "    response = llm_model(prompt)\n",
    "    return response\n",
    "\n",
    "\n",
    "import streamlit as st\n"
   ]
  },
  {
   "cell_type": "code",
   "execution_count": 2,
   "id": "b959a188",
   "metadata": {},
   "outputs": [],
   "source": [
    "# Function to extract text from .txt\n",
    "def extract_text_from_txt(file_path):\n",
    "    with open(file_path, \"r\", encoding=\"utf-8\") as f:\n",
    "        return f.read()"
   ]
  },
  {
   "cell_type": "code",
   "execution_count": 3,
   "id": "46ee1825",
   "metadata": {},
   "outputs": [],
   "source": [
    "\n",
    "# Load documents\n",
    "def load_documents(folder_path=\"documents\"):\n",
    "    documents = []\n",
    "    for file_name in os.listdir(folder_path):\n",
    "        if file_name.endswith(\".txt\"):\n",
    "            file_path = os.path.join(folder_path, file_name)\n",
    "            text = extract_text_from_txt(file_path)\n",
    "            documents.append({\"file_name\": file_name, \"text\": text})\n",
    "    return documents"
   ]
  },
  {
   "cell_type": "code",
   "execution_count": 4,
   "id": "a6086346",
   "metadata": {},
   "outputs": [],
   "source": [
    "\n",
    "# Split documents\n",
    "def split_documents(documents, chunk_size=500, chunk_overlap=50):\n",
    "    splitter = RecursiveCharacterTextSplitter(chunk_size=chunk_size, chunk_overlap=chunk_overlap)\n",
    "    chunks = []\n",
    "    for doc in documents:\n",
    "        chunks.extend(splitter.split_text(doc[\"text\"]))\n",
    "    return [Document(page_content=chunk) for chunk in chunks]"
   ]
  },
  {
   "cell_type": "code",
   "execution_count": 5,
   "id": "fa1f95ed",
   "metadata": {},
   "outputs": [],
   "source": [
    "# Create FAISS index\n",
    "def create_faiss_index(documents):\n",
    "    embedding_model = HuggingFaceEmbeddings(\n",
    "        model_name=\"sentence-transformers/all-MiniLM-L6-v2\",\n",
    "        model_kwargs={\"device\": \"cpu\"}\n",
    "    )\n",
    "    vectordb = FAISS.from_documents(documents, embedding_model)\n",
    "    vectordb.save_local(\"faiss_index\")\n",
    "    return vectordb"
   ]
  },
  {
   "cell_type": "code",
   "execution_count": 6,
   "id": "e32b19be",
   "metadata": {},
   "outputs": [],
   "source": [
    "# Load FAISS index\n",
    "def load_faiss_index():\n",
    "    embedding_model = HuggingFaceEmbeddings(\n",
    "        model_name=\"sentence-transformers/all-MiniLM-L6-v2\",\n",
    "        model_kwargs={\"device\": \"cpu\"}\n",
    "    )\n",
    "    vectordb = FAISS.load_local(\"faiss_index\", embeddings=embedding_model, allow_dangerous_deserialization=True)\n",
    "    return vectordb\n"
   ]
  },
  {
   "cell_type": "code",
   "execution_count": 7,
   "id": "035eddf8",
   "metadata": {},
   "outputs": [],
   "source": [
    "\n",
    "# Retrieve relevant chunks\n",
    "def retrieve_relevant_chunks(vectordb, query, top_k=3):\n",
    "    results = vectordb.similarity_search(query, k=top_k)\n",
    "    context = \"\\n\\n\".join([result.page_content for result in results])\n",
    "    return context"
   ]
  },
  {
   "cell_type": "code",
   "execution_count": 8,
   "id": "7d2c8c0d",
   "metadata": {},
   "outputs": [],
   "source": [
    "# Generate answer\n",
    "def generate_answer(context, question):\n",
    "    llm_model = CTransformers(\n",
    "        model=r\"D:\\GenAi\\llama-2-7b-chat.ggmlv3.q4_0.bin\",  # Your local model path\n",
    "        model_type=\"llama\",\n",
    "        config={\n",
    "            \"max_new_tokens\": 256,\n",
    "            \"temperature\": 0.7,\n",
    "            \"context_length\": 512\n",
    "        }\n",
    "    )\n",
    "    prompt = f\"Context:\\n{context}\\n\\nQuestion: {question}\\n\\nAnswer:\"\n",
    "    response = llm_model(prompt)\n",
    "    return response\n"
   ]
  },
  {
   "cell_type": "code",
   "execution_count": 13,
   "id": "4606b78b",
   "metadata": {},
   "outputs": [
    {
     "name": "stderr",
     "output_type": "stream",
     "text": [
      "[nltk_data] Downloading package punkt to\n",
      "[nltk_data]     C:\\Users\\DELL\\AppData\\Roaming\\nltk_data...\n",
      "[nltk_data]   Package punkt is already up-to-date!\n"
     ]
    },
    {
     "data": {
      "text/plain": [
       "True"
      ]
     },
     "execution_count": 13,
     "metadata": {},
     "output_type": "execute_result"
    }
   ],
   "source": [
    "import nltk\n",
    "\n",
    "# Manually set nltk data path\n",
    "nltk.data.path.append(r\"C:\\Users\\DELL\\AppData\\Roaming\\nltk_data\")\n",
    "\n",
    "# Download if needed\n",
    "nltk.download('punkt')\n"
   ]
  },
  {
   "cell_type": "code",
   "execution_count": 14,
   "id": "c9464f79",
   "metadata": {},
   "outputs": [
    {
     "name": "stdout",
     "output_type": "stream",
     "text": [
      "['The', 'correct', 'response', 'from', 'the', 'model']\n"
     ]
    }
   ],
   "source": [
    "true_answer = \"The correct response from the model\"\n",
    "words = true_answer.split()\n",
    "print(words)\n"
   ]
  },
  {
   "cell_type": "code",
   "execution_count": 15,
   "id": "c63c6dcd",
   "metadata": {},
   "outputs": [
    {
     "name": "stdout",
     "output_type": "stream",
     "text": [
      "BLEU Score: 0.0000\n"
     ]
    },
    {
     "name": "stderr",
     "output_type": "stream",
     "text": [
      "c:\\Users\\DELL\\anaconda3\\envs\\Saralads\\Lib\\site-packages\\nltk\\translate\\bleu_score.py:577: UserWarning: \n",
      "The hypothesis contains 0 counts of 3-gram overlaps.\n",
      "Therefore the BLEU score evaluates to 0, independently of\n",
      "how many N-gram overlaps of lower order it contains.\n",
      "Consider using lower n-gram order or use SmoothingFunction()\n",
      "  warnings.warn(_msg)\n",
      "c:\\Users\\DELL\\anaconda3\\envs\\Saralads\\Lib\\site-packages\\nltk\\translate\\bleu_score.py:577: UserWarning: \n",
      "The hypothesis contains 0 counts of 4-gram overlaps.\n",
      "Therefore the BLEU score evaluates to 0, independently of\n",
      "how many N-gram overlaps of lower order it contains.\n",
      "Consider using lower n-gram order or use SmoothingFunction()\n",
      "  warnings.warn(_msg)\n"
     ]
    }
   ],
   "source": [
    "from nltk.translate.bleu_score import sentence_bleu\n",
    "\n",
    "# Your model output and correct answer\n",
    "generated_answer = \"Vitamin C helps boost immunity.\"\n",
    "true_answer = \"Vitamin C strengthens the immune system.\"\n",
    "\n",
    "# BLEU Score Calculation\n",
    "reference = [true_answer.split()]  # ✅ split instead of word_tokenize\n",
    "candidate = generated_answer.split()  # ✅ split instead of word_tokenize\n",
    "\n",
    "bleu_score = sentence_bleu(reference, candidate)\n",
    "print(f\"BLEU Score: {bleu_score:.4f}\")\n"
   ]
  },
  {
   "cell_type": "code",
   "execution_count": 16,
   "id": "e88bc8a4",
   "metadata": {},
   "outputs": [
    {
     "name": "stdout",
     "output_type": "stream",
     "text": [
      "BLEU Score with smoothing: 0.0930\n"
     ]
    }
   ],
   "source": [
    "from nltk.translate.bleu_score import sentence_bleu, SmoothingFunction\n",
    "\n",
    "# Smoothing function\n",
    "smooth_fn = SmoothingFunction().method1\n",
    "\n",
    "bleu_score = sentence_bleu(reference, candidate, smoothing_function=smooth_fn)\n",
    "print(f\"BLEU Score with smoothing: {bleu_score:.4f}\")\n"
   ]
  },
  {
   "cell_type": "code",
   "execution_count": null,
   "id": "055c8eea",
   "metadata": {},
   "outputs": [],
   "source": []
  }
 ],
 "metadata": {
  "kernelspec": {
   "display_name": "Saralads",
   "language": "python",
   "name": "python3"
  },
  "language_info": {
   "codemirror_mode": {
    "name": "ipython",
    "version": 3
   },
   "file_extension": ".py",
   "mimetype": "text/x-python",
   "name": "python",
   "nbconvert_exporter": "python",
   "pygments_lexer": "ipython3",
   "version": "3.11.11"
  }
 },
 "nbformat": 4,
 "nbformat_minor": 5
}
